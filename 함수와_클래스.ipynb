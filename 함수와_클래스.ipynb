{
  "nbformat": 4,
  "nbformat_minor": 0,
  "metadata": {
    "colab": {
      "provenance": [],
      "authorship_tag": "ABX9TyOfE0X3DQ/Ou7enJSvY3l6z",
      "include_colab_link": true
    },
    "kernelspec": {
      "name": "python3",
      "display_name": "Python 3"
    },
    "language_info": {
      "name": "python"
    }
  },
  "cells": [
    {
      "cell_type": "markdown",
      "metadata": {
        "id": "view-in-github",
        "colab_type": "text"
      },
      "source": [
        "<a href=\"https://colab.research.google.com/github/Qwarning/Sessac/blob/main/%ED%95%A8%EC%88%98%EC%99%80_%ED%81%B4%EB%9E%98%EC%8A%A4.ipynb\" target=\"_parent\"><img src=\"https://colab.research.google.com/assets/colab-badge.svg\" alt=\"Open In Colab\"/></a>"
      ]
    },
    {
      "cell_type": "code",
      "execution_count": 1,
      "metadata": {
        "id": "HL3fSyHGQxAM"
      },
      "outputs": [],
      "source": [
        "def sum(num1, num2):\n",
        "  result= num1 + num2\n",
        "  return result\n"
      ]
    },
    {
      "cell_type": "code",
      "source": [
        "sum(2,4)"
      ],
      "metadata": {
        "colab": {
          "base_uri": "https://localhost:8080/"
        },
        "id": "MubPq-D4RydC",
        "outputId": "dced18e9-041a-4b28-d0f8-5300df9261ac"
      },
      "execution_count": 2,
      "outputs": [
        {
          "output_type": "execute_result",
          "data": {
            "text/plain": [
              "6"
            ]
          },
          "metadata": {},
          "execution_count": 2
        }
      ]
    },
    {
      "cell_type": "code",
      "source": [
        "def sum2(num1, num2):\n",
        "  print(f\"{num1} + {num2} = {num1 + num2}\")"
      ],
      "metadata": {
        "id": "emdOLhrjS0dC"
      },
      "execution_count": 3,
      "outputs": []
    },
    {
      "cell_type": "code",
      "source": [
        "sum2(8,1)"
      ],
      "metadata": {
        "colab": {
          "base_uri": "https://localhost:8080/"
        },
        "id": "_UJ6-b_US_1I",
        "outputId": "e58a8d47-d8e8-48d7-9084-5e888002a899"
      },
      "execution_count": 4,
      "outputs": [
        {
          "output_type": "stream",
          "name": "stdout",
          "text": [
            "8 + 1 = 9\n"
          ]
        }
      ]
    },
    {
      "cell_type": "code",
      "source": [
        "a= sum(1, 2)\n",
        "b = sum2(1, 2)"
      ],
      "metadata": {
        "colab": {
          "base_uri": "https://localhost:8080/"
        },
        "id": "1PGt22tdTbx5",
        "outputId": "01c3c1cf-4551-4f87-8445-7774b9570730"
      },
      "execution_count": 5,
      "outputs": [
        {
          "output_type": "stream",
          "name": "stdout",
          "text": [
            "1 + 2 = 3\n"
          ]
        }
      ]
    },
    {
      "cell_type": "code",
      "source": [
        "print(a)\n",
        "print(b)"
      ],
      "metadata": {
        "colab": {
          "base_uri": "https://localhost:8080/"
        },
        "id": "aj8S0AxfTkFq",
        "outputId": "bba7e4f8-57c7-4b99-b2a5-b3edb3257283"
      },
      "execution_count": 6,
      "outputs": [
        {
          "output_type": "stream",
          "name": "stdout",
          "text": [
            "3\n",
            "None\n"
          ]
        }
      ]
    },
    {
      "cell_type": "code",
      "source": [
        "def means(*values):\n",
        "  a=0\n",
        "  for i in values:\n",
        "    a += i\n",
        "  a /= len(values)\n",
        "  print(a)"
      ],
      "metadata": {
        "id": "af_h0Hy5bW-_"
      },
      "execution_count": 7,
      "outputs": []
    },
    {
      "cell_type": "code",
      "source": [
        "means(1,2, 3, 4)"
      ],
      "metadata": {
        "colab": {
          "base_uri": "https://localhost:8080/"
        },
        "id": "q6huoJ65b2TV",
        "outputId": "cf263b8d-b16d-4c32-ea10-ab85b6098190"
      },
      "execution_count": 8,
      "outputs": [
        {
          "output_type": "stream",
          "name": "stdout",
          "text": [
            "2.5\n"
          ]
        }
      ]
    },
    {
      "cell_type": "code",
      "source": [
        "def calcul(num1, num2):\n",
        "  print(f'{num1} + {num2} = {num1 + num2}')\n",
        "  print(f'{num1} - {num2} = {num1 - num2}')\n",
        "  print(f'{num1} * {num2} = {num1 * num2}')\n",
        "  print(f'{num1} / {num2} = {num1 / num2}')"
      ],
      "metadata": {
        "id": "gY9UhS8AcVQ9"
      },
      "execution_count": 9,
      "outputs": []
    },
    {
      "cell_type": "code",
      "source": [
        "calcul(6, 3)"
      ],
      "metadata": {
        "colab": {
          "base_uri": "https://localhost:8080/"
        },
        "id": "k52AkCcscqsl",
        "outputId": "8a796126-2fb3-4622-b5ec-03c995b37ecb"
      },
      "execution_count": 10,
      "outputs": [
        {
          "output_type": "stream",
          "name": "stdout",
          "text": [
            "6 + 3 = 9\n",
            "6 - 3 = 3\n",
            "6 * 3 = 18\n",
            "6 / 3 = 2.0\n"
          ]
        }
      ]
    },
    {
      "cell_type": "markdown",
      "source": [
        "##클래스 만들기"
      ],
      "metadata": {
        "id": "VPeVKGlc7IN5"
      }
    },
    {
      "cell_type": "code",
      "source": [
        "class calcul:\n",
        "  def __init__(self, num1, num2):\n",
        "    self.num1 = num1\n",
        "    self.num2 = num2\n",
        "  def plus(self):\n",
        "    return self.num1 + self.num2\n",
        "  def minus(self):\n",
        "    return self.num1 - self.num2\n",
        "  def multi(self):\n",
        "    return self.num1 * self.num2\n",
        "  def divide(self):\n",
        "    return self.num1 / self.num2"
      ],
      "metadata": {
        "id": "BTuU9Gs17LyQ"
      },
      "execution_count": 11,
      "outputs": []
    },
    {
      "cell_type": "code",
      "source": [
        "a = calcul(10, 20)\n",
        "print(a.plus())\n",
        "print(a.minus())\n",
        "print(a.multi())\n",
        "print(a.divide())"
      ],
      "metadata": {
        "colab": {
          "base_uri": "https://localhost:8080/"
        },
        "id": "7ujksT4A8XIo",
        "outputId": "ddae680e-6d01-44b0-fad8-f5a69c761220"
      },
      "execution_count": 12,
      "outputs": [
        {
          "output_type": "stream",
          "name": "stdout",
          "text": [
            "30\n",
            "-10\n",
            "200\n",
            "0.5\n"
          ]
        }
      ]
    },
    {
      "cell_type": "markdown",
      "source": [
        "##클래스 실습"
      ],
      "metadata": {
        "id": "dVuLXoR7GoBa"
      }
    },
    {
      "cell_type": "code",
      "source": [
        "class BankAccount:\n",
        "  def __init__(self, number, name, money):\n",
        "    self.number = number\n",
        "    self.name = name\n",
        "    self.money = money\n",
        "  def chulgm(self, chul):\n",
        "    self.money -= chul\n",
        "  def ipgm(self, ip):\n",
        "    self.money += ip\n",
        "  def janek(self):\n",
        "    print(f'{self.name}님의 남은 예금은 {self.money}입니다.')"
      ],
      "metadata": {
        "id": "YN8qKZJOGnUb"
      },
      "execution_count": 13,
      "outputs": []
    },
    {
      "cell_type": "code",
      "source": [
        "x = BankAccount(123456789, '견규원', 989800)\n",
        "x.janek()\n",
        "x.chulgm(9800)\n",
        "x.janek()\n",
        "x.ipgm(20000)\n",
        "x.janek()"
      ],
      "metadata": {
        "colab": {
          "base_uri": "https://localhost:8080/"
        },
        "id": "aYxqIQzdH2vK",
        "outputId": "fcf5ec66-1ba3-4915-8066-98d0a01e54fb"
      },
      "execution_count": 14,
      "outputs": [
        {
          "output_type": "stream",
          "name": "stdout",
          "text": [
            "견규원님의 남은 예금은 989800입니다.\n",
            "견규원님의 남은 예금은 980000입니다.\n",
            "견규원님의 남은 예금은 1000000입니다.\n"
          ]
        }
      ]
    },
    {
      "cell_type": "markdown",
      "source": [
        "##상속"
      ],
      "metadata": {
        "id": "8NljTZUZMbEW"
      }
    },
    {
      "cell_type": "code",
      "source": [
        "class BBankAccount(BankAccount):\n",
        "  def janek(self):\n",
        "    print(f'남은 돈 {self.money}')\n",
        "x = BBankAccount(987654321, '견규원', 100)\n",
        "x.janek()\n",
        "x.chulgm(9800)\n",
        "x.janek()\n",
        "x.ipgm(20000)\n",
        "x.janek()"
      ],
      "metadata": {
        "colab": {
          "base_uri": "https://localhost:8080/"
        },
        "id": "h-t7ZLjqMdIm",
        "outputId": "ed06dd72-3dc9-419f-b657-53b892f7cb03"
      },
      "execution_count": 15,
      "outputs": [
        {
          "output_type": "stream",
          "name": "stdout",
          "text": [
            "남은 돈 100\n",
            "남은 돈 -9700\n",
            "남은 돈 10300\n"
          ]
        }
      ]
    }
  ]
}